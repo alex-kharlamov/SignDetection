{
 "cells": [
  {
   "cell_type": "code",
   "execution_count": 1,
   "metadata": {},
   "outputs": [],
   "source": [
    "import os\n",
    "import json\n",
    "import pandas as pd\n",
    "from PIL import Image\n",
    "from tqdm import *\n",
    "import numpy as np\n",
    "import pickle\n",
    "from shutil import copyfile\n",
    "import glob\n",
    "\n",
    "from tqdm import tqdm"
   ]
  },
  {
   "cell_type": "code",
   "execution_count": 2,
   "metadata": {},
   "outputs": [],
   "source": [
    "train_annotations = '/group-volume/orc_srr/multimodal/iceblood/datasets/main/annotations/training/'\n",
    "test_annotations = '/group-volume/orc_srr/multimodal/iceblood/datasets/main/annotations/test/'\n",
    "final_annotations = '/group-volume/orc_srr/multimodal/iceblood/datasets/main/annotations/final/'\n",
    "\n",
    "data_path = '/group-volume/orc_srr/multimodal/iceblood/datasets/main/TRAIN/skolkovo/'\n",
    "data_path_final = '/group-volume/orc_srr/multimodal/iceblood/datasets/main/TEST/'"
   ]
  },
  {
   "cell_type": "code",
   "execution_count": 3,
   "metadata": {},
   "outputs": [],
   "source": [
    "folders_train = os.listdir(train_annotations)\n",
    "folders_test = os.listdir(test_annotations)\n",
    "folders_final = os.listdir(final_annotations)"
   ]
  },
  {
   "cell_type": "code",
   "execution_count": 4,
   "metadata": {},
   "outputs": [
    {
     "name": "stderr",
     "output_type": "stream",
     "text": [
      "100%|██████████| 10/10 [00:18<00:00,  2.04s/it]\n"
     ]
    }
   ],
   "source": [
    "train_data = []\n",
    "\n",
    "for cur_folder in tqdm(folders_train):\n",
    "    anno = list(filter(lambda x: 'tsv' in x, os.listdir(os.path.join(train_annotations, cur_folder))))\n",
    "    imgs = list(map(lambda x: x.replace('.tsv', '.jpg'), anno))\n",
    "    for cur_anno in anno:\n",
    "        img_data = pd.read_csv(os.path.join(train_annotations, cur_folder, cur_anno), sep='\\t')\n",
    "        img_data['path'] = str(os.path.join(cur_folder, cur_anno.replace('.tsv', '.jpg')))\n",
    "        train_data.append(img_data)"
   ]
  },
  {
   "cell_type": "code",
   "execution_count": 5,
   "metadata": {},
   "outputs": [
    {
     "name": "stderr",
     "output_type": "stream",
     "text": [
      "100%|██████████| 2/2 [00:09<00:00,  4.91s/it]\n"
     ]
    }
   ],
   "source": [
    "test_data = []\n",
    "\n",
    "for cur_folder in tqdm(folders_test):\n",
    "    anno = list(filter(lambda x: 'tsv' in x, os.listdir(os.path.join(test_annotations, cur_folder))))\n",
    "    imgs = list(map(lambda x: x.replace('.tsv', '.jpg'), anno))\n",
    "    for cur_anno in anno:\n",
    "        img_data = pd.read_csv(os.path.join(test_annotations, cur_folder, cur_anno), sep='\\t')\n",
    "        img_data['path'] = str(os.path.join(cur_folder, cur_anno.replace('.tsv', '.jpg')))\n",
    "        test_data.append(img_data)"
   ]
  },
  {
   "cell_type": "code",
   "execution_count": 6,
   "metadata": {},
   "outputs": [
    {
     "name": "stderr",
     "output_type": "stream",
     "text": [
      "100%|██████████| 3/3 [00:02<00:00,  1.13it/s]\n"
     ]
    }
   ],
   "source": [
    "final_data = []\n",
    "\n",
    "for cur_folder in tqdm(folders_final):\n",
    "    anno = list(filter(lambda x: 'tsv' in x, os.listdir(os.path.join(final_annotations, cur_folder))))\n",
    "    imgs = list(map(lambda x: x.replace('.tsv', '.jpg'), anno))\n",
    "    for cur_anno in anno:\n",
    "        img_data = pd.read_csv(os.path.join(final_annotations, cur_folder, cur_anno), sep='\\t')\n",
    "        img_data['path'] = str(os.path.join(cur_folder, cur_anno.replace('.tsv', '.jpg')))\n",
    "        final_data.append(img_data)"
   ]
  },
  {
   "cell_type": "code",
   "execution_count": 7,
   "metadata": {},
   "outputs": [],
   "source": [
    "train_df = pd.concat(train_data)\n",
    "test_df = pd.concat(test_data)\n",
    "\n",
    "train_df = train_df.reset_index()\n",
    "test_df = test_df.reset_index()\n",
    "\n",
    "\n",
    "df = pd.concat((test_df, train_df))\n",
    "df['class'] = df['class'].astype(str)\n",
    "df = df.reset_index()\n",
    "df = df.drop(['level_0', 'data', 'index'], axis=1)\n",
    "df.to_csv(os.path.join(data_path, 'skolkovo_ann.csv'), index=False)"
   ]
  },
  {
   "cell_type": "code",
   "execution_count": 9,
   "metadata": {
    "scrolled": true
   },
   "outputs": [],
   "source": [
    "final_df = pd.concat(final_data)\n",
    "\n",
    "final_df = final_df.reset_index()\n",
    "\n",
    "final_df['class'] = final_df['class'].astype(str)\n",
    "final_df = final_df.drop(['data', 'index'], axis=1)\n",
    "final_df.to_csv(os.path.join(data_path_final, 'skolkovo_final.csv'), index=False)"
   ]
  },
  {
   "cell_type": "code",
   "execution_count": 13,
   "metadata": {},
   "outputs": [
    {
     "data": {
      "text/plain": [
       "(28756, 8)"
      ]
     },
     "execution_count": 13,
     "metadata": {},
     "output_type": "execute_result"
    }
   ],
   "source": [
    "df.shape"
   ]
  },
  {
   "cell_type": "code",
   "execution_count": 14,
   "metadata": {},
   "outputs": [
    {
     "data": {
      "text/html": [
       "<div>\n",
       "<style scoped>\n",
       "    .dataframe tbody tr th:only-of-type {\n",
       "        vertical-align: middle;\n",
       "    }\n",
       "\n",
       "    .dataframe tbody tr th {\n",
       "        vertical-align: top;\n",
       "    }\n",
       "\n",
       "    .dataframe thead th {\n",
       "        text-align: right;\n",
       "    }\n",
       "</style>\n",
       "<table border=\"1\" class=\"dataframe\">\n",
       "  <thead>\n",
       "    <tr style=\"text-align: right;\">\n",
       "      <th></th>\n",
       "      <th>class</th>\n",
       "      <th>xtl</th>\n",
       "      <th>ytl</th>\n",
       "      <th>xbr</th>\n",
       "      <th>ybr</th>\n",
       "      <th>temporary</th>\n",
       "      <th>occluded</th>\n",
       "      <th>path</th>\n",
       "    </tr>\n",
       "  </thead>\n",
       "  <tbody>\n",
       "    <tr>\n",
       "      <th>0</th>\n",
       "      <td>5.19.1</td>\n",
       "      <td>1698</td>\n",
       "      <td>960</td>\n",
       "      <td>1707</td>\n",
       "      <td>993</td>\n",
       "      <td>False</td>\n",
       "      <td>False</td>\n",
       "      <td>2018-03-16_1324_left/010565.jpg</td>\n",
       "    </tr>\n",
       "    <tr>\n",
       "      <th>1</th>\n",
       "      <td>5.19.2</td>\n",
       "      <td>1749</td>\n",
       "      <td>978</td>\n",
       "      <td>1759</td>\n",
       "      <td>1004</td>\n",
       "      <td>False</td>\n",
       "      <td>False</td>\n",
       "      <td>2018-03-16_1324_left/010565.jpg</td>\n",
       "    </tr>\n",
       "    <tr>\n",
       "      <th>2</th>\n",
       "      <td>2.1</td>\n",
       "      <td>1568</td>\n",
       "      <td>979</td>\n",
       "      <td>1591</td>\n",
       "      <td>1003</td>\n",
       "      <td>False</td>\n",
       "      <td>False</td>\n",
       "      <td>2018-03-16_1324_left/010565.jpg</td>\n",
       "    </tr>\n",
       "    <tr>\n",
       "      <th>3</th>\n",
       "      <td>2.1</td>\n",
       "      <td>1752</td>\n",
       "      <td>938</td>\n",
       "      <td>1794</td>\n",
       "      <td>982</td>\n",
       "      <td>False</td>\n",
       "      <td>False</td>\n",
       "      <td>2018-03-16_1324_left/010565.jpg</td>\n",
       "    </tr>\n",
       "    <tr>\n",
       "      <th>4</th>\n",
       "      <td>3.1</td>\n",
       "      <td>1125</td>\n",
       "      <td>998</td>\n",
       "      <td>1130</td>\n",
       "      <td>1005</td>\n",
       "      <td>False</td>\n",
       "      <td>False</td>\n",
       "      <td>2018-03-16_1324_left/010565.jpg</td>\n",
       "    </tr>\n",
       "  </tbody>\n",
       "</table>\n",
       "</div>"
      ],
      "text/plain": [
       "    class   xtl  ytl   xbr   ybr temporary occluded  \\\n",
       "0  5.19.1  1698  960  1707   993     False    False   \n",
       "1  5.19.2  1749  978  1759  1004     False    False   \n",
       "2     2.1  1568  979  1591  1003     False    False   \n",
       "3     2.1  1752  938  1794   982     False    False   \n",
       "4     3.1  1125  998  1130  1005     False    False   \n",
       "\n",
       "                              path  \n",
       "0  2018-03-16_1324_left/010565.jpg  \n",
       "1  2018-03-16_1324_left/010565.jpg  \n",
       "2  2018-03-16_1324_left/010565.jpg  \n",
       "3  2018-03-16_1324_left/010565.jpg  \n",
       "4  2018-03-16_1324_left/010565.jpg  "
      ]
     },
     "execution_count": 14,
     "metadata": {},
     "output_type": "execute_result"
    }
   ],
   "source": [
    "df.head()"
   ]
  },
  {
   "cell_type": "code",
   "execution_count": 15,
   "metadata": {},
   "outputs": [
    {
     "data": {
      "text/plain": [
       "(2932, 8)"
      ]
     },
     "execution_count": 15,
     "metadata": {},
     "output_type": "execute_result"
    }
   ],
   "source": [
    "final_df.shape"
   ]
  },
  {
   "cell_type": "code",
   "execution_count": 16,
   "metadata": {},
   "outputs": [
    {
     "data": {
      "text/html": [
       "<div>\n",
       "<style scoped>\n",
       "    .dataframe tbody tr th:only-of-type {\n",
       "        vertical-align: middle;\n",
       "    }\n",
       "\n",
       "    .dataframe tbody tr th {\n",
       "        vertical-align: top;\n",
       "    }\n",
       "\n",
       "    .dataframe thead th {\n",
       "        text-align: right;\n",
       "    }\n",
       "</style>\n",
       "<table border=\"1\" class=\"dataframe\">\n",
       "  <thead>\n",
       "    <tr style=\"text-align: right;\">\n",
       "      <th></th>\n",
       "      <th>class</th>\n",
       "      <th>xtl</th>\n",
       "      <th>ytl</th>\n",
       "      <th>xbr</th>\n",
       "      <th>ybr</th>\n",
       "      <th>temporary</th>\n",
       "      <th>occluded</th>\n",
       "      <th>path</th>\n",
       "    </tr>\n",
       "  </thead>\n",
       "  <tbody>\n",
       "    <tr>\n",
       "      <th>0</th>\n",
       "      <td>5.3</td>\n",
       "      <td>1358</td>\n",
       "      <td>992</td>\n",
       "      <td>1363</td>\n",
       "      <td>1002</td>\n",
       "      <td>False</td>\n",
       "      <td>True</td>\n",
       "      <td>2018-03-23_1352_right/005949.jpg</td>\n",
       "    </tr>\n",
       "    <tr>\n",
       "      <th>1</th>\n",
       "      <td>5.15.5</td>\n",
       "      <td>1502</td>\n",
       "      <td>881</td>\n",
       "      <td>1546</td>\n",
       "      <td>925</td>\n",
       "      <td>False</td>\n",
       "      <td>False</td>\n",
       "      <td>2018-03-23_1352_right/005949.jpg</td>\n",
       "    </tr>\n",
       "    <tr>\n",
       "      <th>2</th>\n",
       "      <td>3.24</td>\n",
       "      <td>1335</td>\n",
       "      <td>930</td>\n",
       "      <td>1360</td>\n",
       "      <td>956</td>\n",
       "      <td>False</td>\n",
       "      <td>False</td>\n",
       "      <td>2018-03-23_1352_right/005949.jpg</td>\n",
       "    </tr>\n",
       "    <tr>\n",
       "      <th>3</th>\n",
       "      <td>5.4</td>\n",
       "      <td>1435</td>\n",
       "      <td>986</td>\n",
       "      <td>1443</td>\n",
       "      <td>1001</td>\n",
       "      <td>False</td>\n",
       "      <td>False</td>\n",
       "      <td>2018-03-23_1352_right/005949.jpg</td>\n",
       "    </tr>\n",
       "    <tr>\n",
       "      <th>4</th>\n",
       "      <td>5.3</td>\n",
       "      <td>1335</td>\n",
       "      <td>887</td>\n",
       "      <td>1360</td>\n",
       "      <td>928</td>\n",
       "      <td>False</td>\n",
       "      <td>False</td>\n",
       "      <td>2018-03-23_1352_right/005949.jpg</td>\n",
       "    </tr>\n",
       "  </tbody>\n",
       "</table>\n",
       "</div>"
      ],
      "text/plain": [
       "    class   xtl  ytl   xbr   ybr temporary occluded  \\\n",
       "0     5.3  1358  992  1363  1002     False     True   \n",
       "1  5.15.5  1502  881  1546   925     False    False   \n",
       "2    3.24  1335  930  1360   956     False    False   \n",
       "3     5.4  1435  986  1443  1001     False    False   \n",
       "4     5.3  1335  887  1360   928     False    False   \n",
       "\n",
       "                               path  \n",
       "0  2018-03-23_1352_right/005949.jpg  \n",
       "1  2018-03-23_1352_right/005949.jpg  \n",
       "2  2018-03-23_1352_right/005949.jpg  \n",
       "3  2018-03-23_1352_right/005949.jpg  \n",
       "4  2018-03-23_1352_right/005949.jpg  "
      ]
     },
     "execution_count": 16,
     "metadata": {},
     "output_type": "execute_result"
    }
   ],
   "source": [
    "final_df.head()"
   ]
  },
  {
   "cell_type": "code",
   "execution_count": null,
   "metadata": {},
   "outputs": [],
   "source": []
  }
 ],
 "metadata": {
  "kernelspec": {
   "display_name": "Python 3",
   "language": "python",
   "name": "python3"
  },
  "language_info": {
   "codemirror_mode": {
    "name": "ipython",
    "version": 3
   },
   "file_extension": ".py",
   "mimetype": "text/x-python",
   "name": "python",
   "nbconvert_exporter": "python",
   "pygments_lexer": "ipython3",
   "version": "3.6.4"
  }
 },
 "nbformat": 4,
 "nbformat_minor": 2
}
